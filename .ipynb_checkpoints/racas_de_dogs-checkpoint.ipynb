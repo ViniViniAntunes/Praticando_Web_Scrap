{
 "cells": [
  {
   "cell_type": "code",
   "execution_count": 1,
   "metadata": {},
   "outputs": [],
   "source": [
    "from bs4 import BeautifulSoup\n",
    "import pandas as pd\n",
    "from urllib.request import Request, urlopen\n",
    "from urllib.error import URLError, HTTPError\n",
    "import time\n",
    "\n",
    "def le_pagina(url):\n",
    "    \n",
    "    url = url\n",
    "    headers = {'User-Agent': 'Mozilla/5.0 (Windows NT 10.0; Win64; x64) AppleWebKit/537.36 (KHTML, like Gecko) Chrome/76.0.3809.100 Safari/537.36'}\n",
    "\n",
    "    try:\n",
    "        req = Request(url, headers = headers)\n",
    "        response = urlopen(req)\n",
    "        time.sleep(3)\n",
    "#         print('Foi\\n\\n')\n",
    "#         print(response.getcode())\n",
    "        html = response.read()\n",
    "\n",
    "    except HTTPError as e:\n",
    "        print('HTTPError\\n\\n')\n",
    "        print(response.getcode())\n",
    "        print(e.status, e.reason)\n",
    "\n",
    "    except URLError as e:\n",
    "        print('URLError\\n\\n')\n",
    "        print(response.getcode())\n",
    "        print(e.reason)\n",
    "\n",
    "    html = html.decode('utf-8')\n",
    "\n",
    "    def trata_html(input):\n",
    "        return \" \".join(input.split()).replace('> <', '><')\n",
    "\n",
    "    html = trata_html(html)\n",
    "    soup = BeautifulSoup(html, 'html.parser')\n",
    "\n",
    "    return soup"
   ]
  },
  {
   "cell_type": "code",
   "execution_count": 2,
   "metadata": {},
   "outputs": [],
   "source": [
    "url_racas = 'https://www.petz.com.br/cachorro/racas/'\n",
    "soup_racas = le_pagina(url_racas)"
   ]
  },
  {
   "cell_type": "code",
   "execution_count": 3,
   "metadata": {},
   "outputs": [
    {
     "data": {
      "text/plain": [
       "<html style=\"height:100%\"><head><meta content=\"NOINDEX, NOFOLLOW\" name=\"ROBOTS\"/><meta content=\"telephone=no\" name=\"format-detection\"/><meta content=\"initial-scale=1.0\" name=\"viewport\"/><meta content=\"IE=edge,chrome=1\" http-equiv=\"X-UA-Compatible\"/></head><body style=\"margin:0px;height:100%\"><iframe frameborder=\"0\" height=\"100%\" id=\"main-iframe\" marginheight=\"0px\" marginwidth=\"0px\" src=\"/_Incapsula_Resource?SWUDNSAI=30&amp;xinfo=3-6865246-0%200NNN%20RT%281613095519515%2018%29%20q%280%20-1%20-1%20-1%29%20r%280%20-1%29%20B12%284%2c316%2c0%29%20U18&amp;incident_id=786000360023486942-31532125225355523&amp;edet=12&amp;cinfo=04000000&amp;rpinfo=0&amp;cts=My2yHmGTYW9vhwwFUPCUU4K97BD4RluQq2OLj25SThBeOFb4Bzvh1MK%2bLWvPH31s\" width=\"100%\">Request unsuccessful. Incapsula incident ID: 786000360023486942-31532125225355523</iframe></body></html>"
      ]
     },
     "execution_count": 3,
     "metadata": {},
     "output_type": "execute_result"
    }
   ],
   "source": [
    "soup_racas"
   ]
  },
  {
   "cell_type": "code",
   "execution_count": 3,
   "metadata": {},
   "outputs": [
    {
     "ename": "AttributeError",
     "evalue": "'NoneType' object has no attribute 'find'",
     "output_type": "error",
     "traceback": [
      "\u001b[1;31m---------------------------------------------------------------------------\u001b[0m",
      "\u001b[1;31mAttributeError\u001b[0m                            Traceback (most recent call last)",
      "\u001b[1;32m<ipython-input-3-73a00d6b9b00>\u001b[0m in \u001b[0;36m<module>\u001b[1;34m\u001b[0m\n\u001b[1;32m----> 1\u001b[1;33m \u001b[0mracas\u001b[0m \u001b[1;33m=\u001b[0m \u001b[0msoup_racas\u001b[0m\u001b[1;33m.\u001b[0m\u001b[0mfind\u001b[0m\u001b[1;33m(\u001b[0m\u001b[1;34m'div'\u001b[0m\u001b[1;33m,\u001b[0m \u001b[1;33m{\u001b[0m\u001b[1;34m'class'\u001b[0m\u001b[1;33m:\u001b[0m \u001b[1;34m'body-filter'\u001b[0m\u001b[1;33m}\u001b[0m\u001b[1;33m)\u001b[0m\u001b[1;33m.\u001b[0m\u001b[0mfind\u001b[0m\u001b[1;33m(\u001b[0m\u001b[1;34m'ul'\u001b[0m\u001b[1;33m,\u001b[0m \u001b[1;33m{\u001b[0m\u001b[1;34m'data-id'\u001b[0m\u001b[1;33m:\u001b[0m \u001b[1;33m-\u001b[0m\u001b[1;36m4\u001b[0m\u001b[1;33m}\u001b[0m\u001b[1;33m)\u001b[0m\u001b[1;33m.\u001b[0m\u001b[0mfindAll\u001b[0m\u001b[1;33m(\u001b[0m\u001b[1;34m'li'\u001b[0m\u001b[1;33m,\u001b[0m \u001b[1;33m{\u001b[0m\u001b[1;34m'class'\u001b[0m\u001b[1;33m:\u001b[0m \u001b[1;34m'show'\u001b[0m\u001b[1;33m}\u001b[0m\u001b[1;33m)\u001b[0m\u001b[1;33m\u001b[0m\u001b[1;33m\u001b[0m\u001b[0m\n\u001b[0m\u001b[0;32m      2\u001b[0m \u001b[0mnomes\u001b[0m \u001b[1;33m=\u001b[0m \u001b[1;33m[\u001b[0m\u001b[1;33m]\u001b[0m\u001b[1;33m\u001b[0m\u001b[1;33m\u001b[0m\u001b[0m\n\u001b[0;32m      3\u001b[0m \u001b[0mlinks\u001b[0m \u001b[1;33m=\u001b[0m \u001b[1;33m[\u001b[0m\u001b[1;33m]\u001b[0m\u001b[1;33m\u001b[0m\u001b[1;33m\u001b[0m\u001b[0m\n\u001b[0;32m      4\u001b[0m \u001b[1;32mfor\u001b[0m \u001b[0mraca\u001b[0m \u001b[1;32min\u001b[0m \u001b[0mracas\u001b[0m\u001b[1;33m:\u001b[0m\u001b[1;33m\u001b[0m\u001b[1;33m\u001b[0m\u001b[0m\n\u001b[0;32m      5\u001b[0m \u001b[1;33m\u001b[0m\u001b[0m\n",
      "\u001b[1;31mAttributeError\u001b[0m: 'NoneType' object has no attribute 'find'"
     ]
    }
   ],
   "source": [
    "racas = soup_racas.find('div', {'class': 'body-filter'}).find('ul', {'data-id': -4}).findAll('li', {'class': 'show'})\n",
    "nomes = []\n",
    "links = []\n",
    "for raca in racas:\n",
    "    \n",
    "    nomes.append(raca.getText().strip())\n",
    "    links.append(raca.find('a').attrs['href'])\n",
    "    \n",
    "dados = (pd.DataFrame([nomes, links])\n",
    "         .T\n",
    "         .rename(columns={0: 'Raças',\n",
    "                          1: 'Links'})\n",
    "         .sort_values(by='Raças', ignore_index=True))"
   ]
  },
  {
   "cell_type": "code",
   "execution_count": 101,
   "metadata": {},
   "outputs": [
    {
     "data": {
      "text/html": [
       "<div>\n",
       "<style scoped>\n",
       "    .dataframe tbody tr th:only-of-type {\n",
       "        vertical-align: middle;\n",
       "    }\n",
       "\n",
       "    .dataframe tbody tr th {\n",
       "        vertical-align: top;\n",
       "    }\n",
       "\n",
       "    .dataframe thead th {\n",
       "        text-align: right;\n",
       "    }\n",
       "</style>\n",
       "<table border=\"1\" class=\"dataframe\">\n",
       "  <thead>\n",
       "    <tr style=\"text-align: right;\">\n",
       "      <th></th>\n",
       "      <th>Raças</th>\n",
       "      <th>Links</th>\n",
       "    </tr>\n",
       "  </thead>\n",
       "  <tbody>\n",
       "    <tr>\n",
       "      <th>0</th>\n",
       "      <td>Affenpinscher</td>\n",
       "      <td>https://www.petz.com.br/cachorro/racas/affenpi...</td>\n",
       "    </tr>\n",
       "    <tr>\n",
       "      <th>1</th>\n",
       "      <td>Afghan Hound</td>\n",
       "      <td>https://www.petz.com.br/cachorro/racas/afghan-...</td>\n",
       "    </tr>\n",
       "    <tr>\n",
       "      <th>2</th>\n",
       "      <td>Airedale Terrier</td>\n",
       "      <td>https://www.petz.com.br/cachorro/racas/airedal...</td>\n",
       "    </tr>\n",
       "    <tr>\n",
       "      <th>3</th>\n",
       "      <td>Akita Americano</td>\n",
       "      <td>https://www.petz.com.br/cachorro/racas/akita-a...</td>\n",
       "    </tr>\n",
       "    <tr>\n",
       "      <th>4</th>\n",
       "      <td>Akita Inu</td>\n",
       "      <td>https://www.petz.com.br/cachorro/racas/akita-inu</td>\n",
       "    </tr>\n",
       "  </tbody>\n",
       "</table>\n",
       "</div>"
      ],
      "text/plain": [
       "              Raças                                              Links\n",
       "0     Affenpinscher  https://www.petz.com.br/cachorro/racas/affenpi...\n",
       "1      Afghan Hound  https://www.petz.com.br/cachorro/racas/afghan-...\n",
       "2  Airedale Terrier  https://www.petz.com.br/cachorro/racas/airedal...\n",
       "3   Akita Americano  https://www.petz.com.br/cachorro/racas/akita-a...\n",
       "4         Akita Inu   https://www.petz.com.br/cachorro/racas/akita-inu"
      ]
     },
     "execution_count": 101,
     "metadata": {},
     "output_type": "execute_result"
    }
   ],
   "source": [
    "import time\n",
    "dados.head()"
   ]
  },
  {
   "cell_type": "code",
   "execution_count": 103,
   "metadata": {},
   "outputs": [
    {
     "name": "stdout",
     "output_type": "stream",
     "text": [
      "Foi\n",
      "\n",
      "\n",
      "200\n",
      "Foi\n",
      "\n",
      "\n",
      "200\n",
      "Foi\n",
      "\n",
      "\n",
      "200\n",
      "Foi\n",
      "\n",
      "\n",
      "200\n",
      "Foi\n",
      "\n",
      "\n",
      "200\n",
      "Foi\n",
      "\n",
      "\n",
      "200\n",
      "Foi\n",
      "\n",
      "\n",
      "200\n",
      "Foi\n",
      "\n",
      "\n",
      "200\n",
      "Foi\n",
      "\n",
      "\n",
      "200\n",
      "Foi\n",
      "\n",
      "\n",
      "200\n",
      "Foi\n",
      "\n",
      "\n",
      "200\n",
      "Foi\n",
      "\n",
      "\n",
      "200\n",
      "Foi\n",
      "\n",
      "\n",
      "200\n",
      "Foi\n",
      "\n",
      "\n",
      "200\n",
      "Foi\n",
      "\n",
      "\n",
      "200\n",
      "Foi\n",
      "\n",
      "\n",
      "200\n",
      "Foi\n",
      "\n",
      "\n",
      "200\n",
      "Foi\n",
      "\n",
      "\n",
      "200\n",
      "Foi\n",
      "\n",
      "\n",
      "200\n"
     ]
    },
    {
     "ename": "KeyboardInterrupt",
     "evalue": "",
     "output_type": "error",
     "traceback": [
      "\u001b[1;31m---------------------------------------------------------------------------\u001b[0m",
      "\u001b[1;31mKeyboardInterrupt\u001b[0m                         Traceback (most recent call last)",
      "\u001b[1;32m<ipython-input-103-cf16ec970896>\u001b[0m in \u001b[0;36m<module>\u001b[1;34m\u001b[0m\n\u001b[0;32m      6\u001b[0m     \u001b[0msoup\u001b[0m \u001b[1;33m=\u001b[0m \u001b[0mle_pagina\u001b[0m\u001b[1;33m(\u001b[0m\u001b[0murl\u001b[0m\u001b[1;33m)\u001b[0m\u001b[1;33m\u001b[0m\u001b[1;33m\u001b[0m\u001b[0m\n\u001b[0;32m      7\u001b[0m \u001b[1;33m\u001b[0m\u001b[0m\n\u001b[1;32m----> 8\u001b[1;33m     \u001b[0mtime\u001b[0m\u001b[1;33m.\u001b[0m\u001b[0msleep\u001b[0m\u001b[1;33m(\u001b[0m\u001b[1;36m2\u001b[0m\u001b[1;33m)\u001b[0m\u001b[1;33m\u001b[0m\u001b[1;33m\u001b[0m\u001b[0m\n\u001b[0m\u001b[0;32m      9\u001b[0m \u001b[1;33m\u001b[0m\u001b[0m\n\u001b[0;32m     10\u001b[0m     \u001b[0mquadros\u001b[0m \u001b[1;33m=\u001b[0m \u001b[0msoup\u001b[0m\u001b[1;33m.\u001b[0m\u001b[0mfindAll\u001b[0m\u001b[1;33m(\u001b[0m\u001b[1;34m'div'\u001b[0m\u001b[1;33m,\u001b[0m \u001b[1;33m{\u001b[0m\u001b[1;34m'class'\u001b[0m\u001b[1;33m:\u001b[0m \u001b[1;34m'quadro_classificacoes'\u001b[0m\u001b[1;33m}\u001b[0m\u001b[1;33m)\u001b[0m\u001b[1;33m\u001b[0m\u001b[1;33m\u001b[0m\u001b[0m\n",
      "\u001b[1;31mKeyboardInterrupt\u001b[0m: "
     ]
    }
   ],
   "source": [
    "dados_extras = pd.DataFrame()\n",
    "cont = 0\n",
    "\n",
    "for raca, url in zip(dados['Raças'], dados['Links']):\n",
    "\n",
    "    print(raca)\n",
    "    soup = le_pagina(url)\n",
    "\n",
    "    time.sleep(3)\n",
    "    \n",
    "    quadros = soup.findAll('div', {'class': 'quadro_classificacoes'})\n",
    "    infos = []\n",
    "    for quadro in quadros:\n",
    "        infos.append(quadro.findAll('div', {'class': 'classificacoes'}))\n",
    "\n",
    "    estrelas = {'uma': 1, \n",
    "                'duas': 2, \n",
    "                'tres': 3,\n",
    "                'quatro': 4,\n",
    "                'cinco': 5}\n",
    "\n",
    "    caracteristicas = {}\n",
    "\n",
    "    for info in infos:\n",
    "        for i, div in enumerate(info):\n",
    "            caracteristicas[div.getText()] = estrelas[div.find('div').attrs['class'][2].split('-')[0]]\n",
    "    adiciona = pd.DataFrame([caracteristicas], index=[raca])\n",
    "    dados_extras = pd.concat([dados_extras, adiciona], ignore_index=True)\n",
    "\n",
    "    cont += 1\n",
    "dados_extras"
   ]
  },
  {
   "cell_type": "code",
   "execution_count": 83,
   "metadata": {},
   "outputs": [
    {
     "data": {
      "text/plain": [
       "[<div class=\"classificacoes\"><h3 class=\"titulo-classificacao\">Amigável com <br/>estranhos</h3><div class=\"img-classificacao estrelas tres-estrelas\"></div></div>,\n",
       " <div class=\"classificacoes\"><h3 class=\"titulo-classificacao\">Territorialista</h3><div class=\"img-classificacao estrelas cinco-estrelas\"></div></div>,\n",
       " <div class=\"classificacoes\"><h3 class=\"titulo-classificacao\">Facilidade de <br/>treinamento</h3><div class=\"img-classificacao estrelas tres-estrelas\"></div></div>,\n",
       " <div class=\"classificacoes\"><h3 class=\"titulo-classificacao\">Cão de guarda</h3><div class=\"img-classificacao estrelas cinco-estrelas\"></div></div>,\n",
       " <div class=\"classificacoes\"><h3 class=\"titulo-classificacao\">Tolerância ao frio</h3><div class=\"img-classificacao estrelas uma-estrelas\"></div></div>,\n",
       " <div class=\"classificacoes\"><h3 class=\"titulo-classificacao\">Tolerância ao calor</h3><div class=\"img-classificacao estrelas tres-estrelas\"></div></div>]"
      ]
     },
     "execution_count": 83,
     "metadata": {},
     "output_type": "execute_result"
    }
   ],
   "source": [
    "info"
   ]
  }
 ],
 "metadata": {
  "kernelspec": {
   "display_name": "Python 3",
   "language": "python",
   "name": "python3"
  },
  "language_info": {
   "codemirror_mode": {
    "name": "ipython",
    "version": 3
   },
   "file_extension": ".py",
   "mimetype": "text/x-python",
   "name": "python",
   "nbconvert_exporter": "python",
   "pygments_lexer": "ipython3",
   "version": "3.7.7"
  }
 },
 "nbformat": 4,
 "nbformat_minor": 4
}
