{
 "cells": [
  {
   "cell_type": "code",
   "execution_count": 10,
   "metadata": {},
   "outputs": [
    {
     "name": "stdout",
     "output_type": "stream",
     "text": [
      "Foi\n",
      "\n",
      "\n",
      "200\n"
     ]
    }
   ],
   "source": [
    "from bs4 import BeautifulSoup\n",
    "import pandas as pd\n",
    "from urllib.request import Request, urlopen\n",
    "from urllib.error import URLError, HTTPError\n",
    "\n",
    "url = 'https://wiki.gugacast.com/Nomes_do_Capeta'\n",
    "headers = {'User-Agent': 'Mozilla/5.0 (Windows NT 10.0; Win64; x64) AppleWebKit/537.36 (KHTML, like Gecko) Chrome/76.0.3809.100 Safari/537.36'}\n",
    "\n",
    "try:\n",
    "    req = Request(url, headers = headers)\n",
    "    response = urlopen(req)\n",
    "    print('Foi\\n\\n')\n",
    "    print(response.getcode())\n",
    "    html = response.read()\n",
    "    \n",
    "except HTTPError as e:\n",
    "    print('HTTPError\\n\\n')\n",
    "    print(response.getcode())\n",
    "    print(e.status, e.reason)\n",
    "    \n",
    "except URLError as e:\n",
    "    print('URLError\\n\\n')\n",
    "    print(response.getcode())\n",
    "    print(e.reason)\n",
    "\n",
    "# html = html.decode('utf-8')\n",
    "\n",
    "def trata_html(input):\n",
    "    return \" \".join(input.split()).replace('> <', '><')\n",
    "\n",
    "# html = trata_html(html)\n",
    "soup = BeautifulSoup(html, 'html.parser')"
   ]
  },
  {
   "cell_type": "code",
   "execution_count": 12,
   "metadata": {
    "scrolled": false
   },
   "outputs": [],
   "source": [
    "lista_de_nomes = soup.find('div', {'class': 'mw-parser-output'})\n",
    "\n",
    "# len(lista_de_nomes)\n",
    "\n",
    "data = [(i+1, item.get_text()) for i, item in enumerate(lista_de_nomes.findAll('li'))]\n",
    "\n",
    "nomes = pd.DataFrame(data, columns=['', 'Nomes'])\n",
    "nomes.set_index('', inplace=True)"
   ]
  },
  {
   "cell_type": "code",
   "execution_count": 13,
   "metadata": {},
   "outputs": [
    {
     "data": {
      "text/html": [
       "<div>\n",
       "<style scoped>\n",
       "    .dataframe tbody tr th:only-of-type {\n",
       "        vertical-align: middle;\n",
       "    }\n",
       "\n",
       "    .dataframe tbody tr th {\n",
       "        vertical-align: top;\n",
       "    }\n",
       "\n",
       "    .dataframe thead th {\n",
       "        text-align: right;\n",
       "    }\n",
       "</style>\n",
       "<table border=\"1\" class=\"dataframe\">\n",
       "  <thead>\n",
       "    <tr style=\"text-align: right;\">\n",
       "      <th></th>\n",
       "      <th>Nomes</th>\n",
       "    </tr>\n",
       "    <tr>\n",
       "      <th></th>\n",
       "      <th></th>\n",
       "    </tr>\n",
       "  </thead>\n",
       "  <tbody>\n",
       "    <tr>\n",
       "      <th>1</th>\n",
       "      <td>25 De Março Na Véspera</td>\n",
       "    </tr>\n",
       "    <tr>\n",
       "      <th>2</th>\n",
       "      <td>Abadá Apertado</td>\n",
       "    </tr>\n",
       "    <tr>\n",
       "      <th>3</th>\n",
       "      <td>Abadá Justo</td>\n",
       "    </tr>\n",
       "    <tr>\n",
       "      <th>4</th>\n",
       "      <td>Abre A Porta De Cueca</td>\n",
       "    </tr>\n",
       "    <tr>\n",
       "      <th>5</th>\n",
       "      <td>Acabou O Enroladinho</td>\n",
       "    </tr>\n",
       "    <tr>\n",
       "      <th>...</th>\n",
       "      <td>...</td>\n",
       "    </tr>\n",
       "    <tr>\n",
       "      <th>416</th>\n",
       "      <td>X-Calango</td>\n",
       "    </tr>\n",
       "    <tr>\n",
       "      <th>417</th>\n",
       "      <td>Xixola</td>\n",
       "    </tr>\n",
       "    <tr>\n",
       "      <th>418</th>\n",
       "      <td>Zé Canhoto</td>\n",
       "    </tr>\n",
       "    <tr>\n",
       "      <th>419</th>\n",
       "      <td>Zé Do Casco</td>\n",
       "    </tr>\n",
       "    <tr>\n",
       "      <th>420</th>\n",
       "      <td>Zilda Rouba-Caneta</td>\n",
       "    </tr>\n",
       "  </tbody>\n",
       "</table>\n",
       "<p>420 rows × 1 columns</p>\n",
       "</div>"
      ],
      "text/plain": [
       "                      Nomes\n",
       "                           \n",
       "1    25 De Março Na Véspera\n",
       "2            Abadá Apertado\n",
       "3               Abadá Justo\n",
       "4     Abre A Porta De Cueca\n",
       "5      Acabou O Enroladinho\n",
       "..                      ...\n",
       "416               X-Calango\n",
       "417                  Xixola\n",
       "418              Zé Canhoto\n",
       "419             Zé Do Casco\n",
       "420      Zilda Rouba-Caneta\n",
       "\n",
       "[420 rows x 1 columns]"
      ]
     },
     "execution_count": 13,
     "metadata": {},
     "output_type": "execute_result"
    }
   ],
   "source": [
    "nomes"
   ]
  },
  {
   "cell_type": "code",
   "execution_count": 62,
   "metadata": {},
   "outputs": [
    {
     "name": "stdout",
     "output_type": "stream",
     "text": [
      "Repórter Do Datena\n"
     ]
    }
   ],
   "source": [
    "print(f'{nomes[\"Nomes\"].sample(1).values[0]}')"
   ]
  },
  {
   "cell_type": "code",
   "execution_count": null,
   "metadata": {},
   "outputs": [],
   "source": []
  }
 ],
 "metadata": {
  "kernelspec": {
   "display_name": "Python 3",
   "language": "python",
   "name": "python3"
  },
  "language_info": {
   "codemirror_mode": {
    "name": "ipython",
    "version": 3
   },
   "file_extension": ".py",
   "mimetype": "text/x-python",
   "name": "python",
   "nbconvert_exporter": "python",
   "pygments_lexer": "ipython3",
   "version": "3.8.5"
  }
 },
 "nbformat": 4,
 "nbformat_minor": 4
}
