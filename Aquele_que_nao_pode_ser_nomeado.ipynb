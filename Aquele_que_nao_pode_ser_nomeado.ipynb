{
 "cells": [
  {
   "cell_type": "code",
   "execution_count": 1,
   "metadata": {},
   "outputs": [
    {
     "name": "stdout",
     "output_type": "stream",
     "text": [
      "Foi\n",
      "\n",
      "\n",
      "200\n"
     ]
    }
   ],
   "source": [
    "from bs4 import BeautifulSoup\n",
    "import pandas as pd\n",
    "from urllib.request import Request, urlopen\n",
    "from urllib.error import URLError, HTTPError\n",
    "\n",
    "url = 'https://wiki.gugacast.com/Nomes_do_Capeta'\n",
    "headers = {'User-Agent': 'Mozilla/5.0 (Windows NT 10.0; Win64; x64) AppleWebKit/537.36 (KHTML, like Gecko) Chrome/76.0.3809.100 Safari/537.36'}\n",
    "\n",
    "try:\n",
    "    req = Request(url, headers = headers)\n",
    "    response = urlopen(req)\n",
    "    print('Foi\\n\\n')\n",
    "    print(response.getcode())\n",
    "    html = response.read()\n",
    "    \n",
    "except HTTPError as e:\n",
    "    print('HTTPError\\n\\n')\n",
    "    print(response.getcode())\n",
    "    print(e.status, e.reason)\n",
    "    \n",
    "except URLError as e:\n",
    "    print('URLError\\n\\n')\n",
    "    print(response.getcode())\n",
    "    print(e.reason)\n",
    "\n",
    "html = html.decode('utf-8')\n",
    "\n",
    "def trata_html(input):\n",
    "    return \" \".join(input.split()).replace('> <', '><')\n",
    "\n",
    "html = trata_html(html)\n",
    "soup = BeautifulSoup(html, 'html.parser')\n",
    "titulo = soup.h1.getText()\n",
    "\n",
    "nome = []\n",
    "for item in soup.findAll('li', limit = 411):\n",
    "    nome.append(item.get_text())\n",
    "\n",
    "nomes = pd.DataFrame(nome, index=range(1, 412), columns=['Nomes'])"
   ]
  },
  {
   "cell_type": "code",
   "execution_count": 10,
   "metadata": {},
   "outputs": [
    {
     "name": "stdout",
     "output_type": "stream",
     "text": [
      "Nomes do Capeta --> Guardião 30 Horas\n"
     ]
    }
   ],
   "source": [
    "print(f'{titulo} --> {nomes[\"Nomes\"].sample(1).values[0]}')"
   ]
  }
 ],
 "metadata": {
  "kernelspec": {
   "display_name": "Python 3",
   "language": "python",
   "name": "python3"
  },
  "language_info": {
   "codemirror_mode": {
    "name": "ipython",
    "version": 3
   },
   "file_extension": ".py",
   "mimetype": "text/x-python",
   "name": "python",
   "nbconvert_exporter": "python",
   "pygments_lexer": "ipython3",
   "version": "3.7.7"
  }
 },
 "nbformat": 4,
 "nbformat_minor": 4
}
